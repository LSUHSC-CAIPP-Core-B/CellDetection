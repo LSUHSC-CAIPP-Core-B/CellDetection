{
 "cells": [
  {
   "cell_type": "markdown",
   "metadata": {},
   "source": [
    "# Get Background Cell Images\n",
    "## Imports"
   ]
  },
  {
   "cell_type": "code",
   "execution_count": null,
   "metadata": {},
   "outputs": [],
   "source": [
    "import cv2\n",
    "import numpy as np\n",
    "import os\n",
    "\n",
    "from config import *\n",
    "from CellProcessor import read_image, process_image, get_bboxes, get_label_yolo"
   ]
  },
  {
   "cell_type": "markdown",
   "metadata": {},
   "source": [
    "## Make dir for images"
   ]
  },
  {
   "cell_type": "code",
   "execution_count": null,
   "metadata": {},
   "outputs": [],
   "source": [
    "IMAGES_BACKGROUND_DIR_PATH = IMAGES_PATH + \"../\"  + \"Background_10p/\"\n",
    "\n",
    "try:\n",
    "    os.mkdir(IMAGES_BACKGROUND_DIR_PATH)\n",
    "except OSError:\n",
    "    print(\"Dir already exists: \" + IMAGES_BACKGROUND_DIR_PATH)"
   ]
  },
  {
   "cell_type": "markdown",
   "metadata": {},
   "source": [
    "## For every image get iamges with no died cells"
   ]
  },
  {
   "cell_type": "code",
   "execution_count": null,
   "metadata": {},
   "outputs": [],
   "source": [
    "images = os.listdir(GREEN_PATH)\n",
    "len_images = len(images)\n",
    "curr_image_num = 1\n",
    "num_images = 0\n",
    "\n",
    "for image in images:\n",
    "    print(str(curr_image_num) + \"/\" + str(len_images))\n",
    "    curr_image_num+=1\n",
    "    green_image_path = GREEN_PATH + image\n",
    "    base_image_path = PHASE_PATH + image\n",
    "    img, img_base = read_image(green_image_path, base_image_path)\n",
    "    img_green = cv2.imread(green_image_path, cv2.IMREAD_UNCHANGED)\n",
    "\n",
    "    img_base_h, img_base_w = img_base.shape[:2]\n",
    "\n",
    "    CROP_WIDTH = 128\n",
    "    CROP_HEIGHT = 128\n",
    "    CROP_WIDTH_OVERLAP = 64\n",
    "    CROP_HEIGHT_OVERLAP = 52\n",
    "    CROP_WIDTH_SHIFT = CROP_WIDTH - CROP_WIDTH_OVERLAP\n",
    "    CROP_HEIGHT_SHIFT = CROP_HEIGHT - CROP_HEIGHT_OVERLAP\n",
    "    num_width_windows = (img_base_w - CROP_WIDTH)/CROP_WIDTH_SHIFT\n",
    "    num_height_windows = (img_base_h - CROP_HEIGHT)/CROP_HEIGHT_SHIFT\n",
    "\n",
    "    for width_window in range(int(num_width_windows)):\n",
    "        for height_window in range(int(num_height_windows)):\n",
    "            curr_topleft_x = width_window * CROP_WIDTH_SHIFT\n",
    "            curr_topleft_y = height_window * CROP_HEIGHT_SHIFT\n",
    "            img_crop = img[curr_topleft_y:curr_topleft_y + CROP_HEIGHT, curr_topleft_x:curr_topleft_x + CROP_WIDTH]\n",
    "            img_base_crop = img_base[curr_topleft_y:curr_topleft_y + CROP_HEIGHT, curr_topleft_x:curr_topleft_x + CROP_WIDTH]\n",
    "            img_green_crop = img_green[curr_topleft_y:curr_topleft_y + CROP_HEIGHT, curr_topleft_x:curr_topleft_x + CROP_WIDTH]\n",
    "\n",
    "            img_dilation = process_image(img_crop, \n",
    "                                contrast, \n",
    "                                brightness, \n",
    "                                threshold, \n",
    "                                i_erode, \n",
    "                                i_dialate, \n",
    "                                plot = False)          \n",
    "\n",
    "            bboxes = get_bboxes(img_dilation)\n",
    "            mean_img = (np.sum(img_dilation)/4177920) * 100.0\n",
    "            if len(bboxes) == 0 and mean_img < 40.0 and num_images < 10000:\n",
    "                num_images+=1          \n",
    "                img_file = IMAGES_BACKGROUND_DIR_PATH + image.split(\".\")[0] + \"_\" + str(width_window) + \"_\" + str(height_window) + \".png\"\n",
    "                cv2.imwrite(img_file, img_base_crop)"
   ]
  }
 ],
 "metadata": {
  "kernelspec": {
   "display_name": "venv",
   "language": "python",
   "name": "python3"
  },
  "language_info": {
   "codemirror_mode": {
    "name": "ipython",
    "version": 3
   },
   "file_extension": ".py",
   "mimetype": "text/x-python",
   "name": "python",
   "nbconvert_exporter": "python",
   "pygments_lexer": "ipython3",
   "version": "3.9.6"
  }
 },
 "nbformat": 4,
 "nbformat_minor": 2
}
