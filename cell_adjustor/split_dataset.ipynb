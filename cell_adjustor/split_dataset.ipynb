{
 "cells": [
  {
   "cell_type": "markdown",
   "metadata": {},
   "source": [
    "# Split dataset\n",
    "## imports"
   ]
  },
  {
   "cell_type": "code",
   "execution_count": null,
   "metadata": {},
   "outputs": [],
   "source": [
    "import os\n",
    "import shutil\n",
    "from config import *\n",
    "from sklearn.model_selection import train_test_split\n",
    "\n",
    "IMAGES_DIR_PATH = IMAGES_PATH + CELL_TYPE + \"_Phase_aug/\"\n",
    "LABELS_DIR_PATH = IMAGES_PATH + CELL_TYPE + \"_Labels_phase_aug/\"\n",
    "\n",
    "def move_files_to_folder(list_of_files, destination_folder):\n",
    "    for f in list_of_files:\n",
    "        try:\n",
    "            shutil.copy(f, destination_folder)\n",
    "        except:\n",
    "            print(f)\n",
    "            assert False"
   ]
  },
  {
   "cell_type": "markdown",
   "metadata": {},
   "source": [
    "## Split data"
   ]
  },
  {
   "cell_type": "code",
   "execution_count": null,
   "metadata": {},
   "outputs": [],
   "source": [
    "images = sorted([os.path.join(IMAGES_DIR_PATH, x) for x in os.listdir(IMAGES_DIR_PATH) if x.endswith('.png')])\n",
    "labels = sorted([os.path.join(LABELS_DIR_PATH, ((x.split(\".\")[-2] + \".txt\").split(\"/\")[-1])) for x in images])\n",
    "\n",
    "print(len(images))\n",
    "print(len(labels))\n",
    "print(labels[2])\n",
    "\n",
    "WITH_TEST = True # if split into test part\n",
    "train_images, val_images, train_labels, val_labels = train_test_split(images, labels, test_size = 0.2, random_state = 1)\n",
    "\n",
    "print(\"TRAIN\")\n",
    "print(len(train_images))\n",
    "print(len(train_labels))\n",
    "\n",
    "print(\"VAL\")\n",
    "print(len(val_images))\n",
    "print(len(val_labels))\n",
    "\n",
    "if WITH_TEST:\n",
    "    val_images, test_images, val_labels, test_labels = train_test_split(val_images, val_labels, test_size = 0.5, random_state = 1)\n",
    "\n",
    "    print(\"TEST\")\n",
    "    print(len(test_images))\n",
    "    print(len(test_labels))"
   ]
  },
  {
   "cell_type": "code",
   "execution_count": null,
   "metadata": {},
   "outputs": [],
   "source": [
    "DESTINATION_PATH = IMAGES_PATH + \"/CellD/\" + DEATH_TYPE + \"/\"\n",
    "# Move the splits into their folders\n",
    "move_files_to_folder(train_images, DESTINATION_PATH + 'images/train/')\n",
    "move_files_to_folder(val_images, DESTINATION_PATH + 'images/val/')\n",
    "move_files_to_folder(train_labels, DESTINATION_PATH + 'labels/train/')\n",
    "move_files_to_folder(val_labels, DESTINATION_PATH + 'labels/val/')\n",
    "if WITH_TEST:\n",
    "    move_files_to_folder(test_images, DESTINATION_PATH + 'images/test/')\n",
    "    move_files_to_folder(test_labels, DESTINATION_PATH + 'labels/test/')"
   ]
  },
  {
   "cell_type": "markdown",
   "metadata": {},
   "source": [
    "## Split only images"
   ]
  },
  {
   "cell_type": "code",
   "execution_count": null,
   "metadata": {},
   "outputs": [],
   "source": [
    "images = sorted([os.path.join(IMAGES_DIR_PATH, x) for x in os.listdir(IMAGES_DIR_PATH) if x.endswith('.png')])\n",
    "\n",
    "print(len(images))\n",
    "\n",
    "print(images[2])\n",
    "\n",
    "WITH_TEST = False # if split into test part\n",
    "train_images, val_images = train_test_split(images, test_size = 0.2, random_state = 1)\n",
    "\n",
    "print(\"TRAIN\")\n",
    "print(len(train_images))\n",
    "\n",
    "print(\"VAL\")\n",
    "print(len(val_images))\n",
    "\n",
    "if WITH_TEST:\n",
    "    val_images, test_images = train_test_split(val_images, test_size = 0.5, random_state = 1)\n",
    "\n",
    "    print(\"TEST\")\n",
    "    print(len(test_images))\n"
   ]
  },
  {
   "cell_type": "code",
   "execution_count": null,
   "metadata": {},
   "outputs": [],
   "source": [
    "DESTINATION_PATH = IMAGES_PATH + \"/CellD/\" + DEATH_TYPE + \"/\"\n",
    "# Move the splits into their folders\n",
    "move_files_to_folder(train_images, DESTINATION_PATH + 'images/train/')\n",
    "move_files_to_folder(val_images, DESTINATION_PATH + 'images/val/')\n",
    "\n",
    "if WITH_TEST:\n",
    "    move_files_to_folder(test_images, DESTINATION_PATH + 'images/test/')\n"
   ]
  }
 ],
 "metadata": {
  "kernelspec": {
   "display_name": "ultralytics",
   "language": "python",
   "name": "python3"
  },
  "language_info": {
   "codemirror_mode": {
    "name": "ipython",
    "version": 3
   },
   "file_extension": ".py",
   "mimetype": "text/x-python",
   "name": "python",
   "nbconvert_exporter": "python",
   "pygments_lexer": "ipython3",
   "version": "3.9.18"
  }
 },
 "nbformat": 4,
 "nbformat_minor": 2
}
