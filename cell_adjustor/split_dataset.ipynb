{
 "cells": [
  {
   "cell_type": "markdown",
   "metadata": {},
   "source": [
    "# Split dataset\n",
    "## imports"
   ]
  },
  {
   "cell_type": "code",
   "execution_count": 30,
   "metadata": {},
   "outputs": [],
   "source": [
    "import os\n",
    "import shutil\n",
    "from config import *\n",
    "from sklearn.model_selection import train_test_split\n",
    "\n",
    "IMAGES_DIR_PATH = IMAGES_PATH + CELL_TYPE + \"_Phase_aug/\"\n",
    "LABELS_DIR_PATH = IMAGES_PATH + CELL_TYPE + \"_Labels_phase_aug/\"\n",
    "\n",
    "def move_files_to_folder(list_of_files, destination_folder):\n",
    "    \n",
    "    try:\n",
    "        os.makedirs(destination_folder)\n",
    "    except OSError:\n",
    "        print(\"Dir already exists: \" + destination_folder)\n",
    "\n",
    "    for f in list_of_files:\n",
    "        try:\n",
    "            shutil.copy(f, destination_folder)\n",
    "        except:\n",
    "            print(f)\n",
    "            assert False"
   ]
  },
  {
   "cell_type": "markdown",
   "metadata": {},
   "source": [
    "## Split data"
   ]
  },
  {
   "cell_type": "code",
   "execution_count": 31,
   "metadata": {},
   "outputs": [
    {
     "name": "stdout",
     "output_type": "stream",
     "text": [
      "11604\n",
      "11604\n",
      "/home/cc2/Documents/CellDetection/Test Data/Apoptosis/HT29_Labels_phase_aug/VID834_B5_1_00d00h00m_0_6.txt\n",
      "TRAIN\n",
      "9283\n",
      "9283\n",
      "VAL\n",
      "2321\n",
      "2321\n",
      "TEST\n",
      "1161\n",
      "1161\n"
     ]
    }
   ],
   "source": [
    "images = sorted([os.path.join(IMAGES_DIR_PATH, x) for x in os.listdir(IMAGES_DIR_PATH) if x.endswith('.png')])\n",
    "labels = sorted([os.path.join(LABELS_DIR_PATH, ((x.split(\".\")[-2] + \".txt\").split(\"/\")[-1])) for x in images])\n",
    "\n",
    "print(len(images))\n",
    "print(len(labels))\n",
    "print(labels[2])\n",
    "\n",
    "WITH_TEST = True # if split into test part\n",
    "train_images, val_images, train_labels, val_labels = train_test_split(images, labels, test_size = 0.2, random_state = 1)\n",
    "\n",
    "print(\"TRAIN\")\n",
    "print(len(train_images))\n",
    "print(len(train_labels))\n",
    "\n",
    "print(\"VAL\")\n",
    "print(len(val_images))\n",
    "print(len(val_labels))\n",
    "\n",
    "if WITH_TEST:\n",
    "    val_images, test_images, val_labels, test_labels = train_test_split(val_images, val_labels, test_size = 0.5, random_state = 1)\n",
    "\n",
    "    print(\"TEST\")\n",
    "    print(len(test_images))\n",
    "    print(len(test_labels))"
   ]
  },
  {
   "cell_type": "code",
   "execution_count": 32,
   "metadata": {},
   "outputs": [],
   "source": [
    "DESTINATION_PATH = IMAGES_PATH + \"DATA/\" + DEATH_TYPE + \"/\"\n",
    "\n",
    "# Move the splits into their folders\n",
    "move_files_to_folder(train_images, DESTINATION_PATH + 'images/train/')\n",
    "move_files_to_folder(val_images, DESTINATION_PATH + 'images/val/')\n",
    "move_files_to_folder(train_labels, DESTINATION_PATH + 'labels/train/')\n",
    "move_files_to_folder(val_labels, DESTINATION_PATH + 'labels/val/')\n",
    "if WITH_TEST:\n",
    "    move_files_to_folder(test_images, DESTINATION_PATH + 'images/test/')\n",
    "    move_files_to_folder(test_labels, DESTINATION_PATH + 'labels/test/')"
   ]
  },
  {
   "cell_type": "markdown",
   "metadata": {},
   "source": [
    "## Split only images"
   ]
  },
  {
   "cell_type": "code",
   "execution_count": 9,
   "metadata": {},
   "outputs": [
    {
     "name": "stdout",
     "output_type": "stream",
     "text": [
      "11604\n",
      "/home/cc2/Documents/CellDetection/Test Data/Apoptosis/HT29_Phase_aug/VID834_B5_1_00d00h00m_0_6.png\n",
      "TRAIN\n",
      "9283\n",
      "VAL\n",
      "2321\n"
     ]
    }
   ],
   "source": [
    "images = sorted([os.path.join(IMAGES_DIR_PATH, x) for x in os.listdir(IMAGES_DIR_PATH) if x.endswith('.png')])\n",
    "\n",
    "print(len(images))\n",
    "\n",
    "print(images[2])\n",
    "\n",
    "WITH_TEST = False # if split into test part\n",
    "train_images, val_images = train_test_split(images, test_size = 0.2, random_state = 1)\n",
    "\n",
    "print(\"TRAIN\")\n",
    "print(len(train_images))\n",
    "\n",
    "print(\"VAL\")\n",
    "print(len(val_images))\n",
    "\n",
    "if WITH_TEST:\n",
    "    val_images, test_images = train_test_split(val_images, test_size = 0.5, random_state = 1)\n",
    "\n",
    "    print(\"TEST\")\n",
    "    print(len(test_images))\n"
   ]
  },
  {
   "cell_type": "code",
   "execution_count": 8,
   "metadata": {},
   "outputs": [
    {
     "name": "stdout",
     "output_type": "stream",
     "text": [
      "Dir already exists: /home/cc2/Documents/CellDetection/Test Data/Apoptosis//DATA/Apoptosis/images/train/\n",
      "/home/cc2/Documents/CellDetection/Test Data/Apoptosis/HT29_Phase_aug/VID834_B6_2_00d20h00m_19_5.png\n"
     ]
    },
    {
     "ename": "AssertionError",
     "evalue": "",
     "output_type": "error",
     "traceback": [
      "\u001b[0;31m---------------------------------------------------------------------------\u001b[0m",
      "\u001b[0;31mFileNotFoundError\u001b[0m                         Traceback (most recent call last)",
      "Cell \u001b[0;32mIn[7], line 18\u001b[0m, in \u001b[0;36mmove_files_to_folder\u001b[0;34m(list_of_files, destination_folder)\u001b[0m\n\u001b[1;32m     17\u001b[0m \u001b[38;5;28;01mtry\u001b[39;00m:\n\u001b[0;32m---> 18\u001b[0m     \u001b[43mshutil\u001b[49m\u001b[38;5;241;43m.\u001b[39;49m\u001b[43mcopy\u001b[49m\u001b[43m(\u001b[49m\u001b[43mf\u001b[49m\u001b[43m,\u001b[49m\u001b[43m \u001b[49m\u001b[43mdestination_folder\u001b[49m\u001b[43m)\u001b[49m\n\u001b[1;32m     19\u001b[0m \u001b[38;5;28;01mexcept\u001b[39;00m:\n",
      "File \u001b[0;32m/usr/lib/python3.9/shutil.py:418\u001b[0m, in \u001b[0;36mcopy\u001b[0;34m(src, dst, follow_symlinks)\u001b[0m\n\u001b[1;32m    417\u001b[0m     dst \u001b[38;5;241m=\u001b[39m os\u001b[38;5;241m.\u001b[39mpath\u001b[38;5;241m.\u001b[39mjoin(dst, os\u001b[38;5;241m.\u001b[39mpath\u001b[38;5;241m.\u001b[39mbasename(src))\n\u001b[0;32m--> 418\u001b[0m \u001b[43mcopyfile\u001b[49m\u001b[43m(\u001b[49m\u001b[43msrc\u001b[49m\u001b[43m,\u001b[49m\u001b[43m \u001b[49m\u001b[43mdst\u001b[49m\u001b[43m,\u001b[49m\u001b[43m \u001b[49m\u001b[43mfollow_symlinks\u001b[49m\u001b[38;5;241;43m=\u001b[39;49m\u001b[43mfollow_symlinks\u001b[49m\u001b[43m)\u001b[49m\n\u001b[1;32m    419\u001b[0m copymode(src, dst, follow_symlinks\u001b[38;5;241m=\u001b[39mfollow_symlinks)\n",
      "File \u001b[0;32m/usr/lib/python3.9/shutil.py:264\u001b[0m, in \u001b[0;36mcopyfile\u001b[0;34m(src, dst, follow_symlinks)\u001b[0m\n\u001b[1;32m    263\u001b[0m \u001b[38;5;28;01melse\u001b[39;00m:\n\u001b[0;32m--> 264\u001b[0m     \u001b[38;5;28;01mwith\u001b[39;00m \u001b[38;5;28mopen\u001b[39m(src, \u001b[38;5;124m'\u001b[39m\u001b[38;5;124mrb\u001b[39m\u001b[38;5;124m'\u001b[39m) \u001b[38;5;28;01mas\u001b[39;00m fsrc, \u001b[38;5;28;43mopen\u001b[39;49m\u001b[43m(\u001b[49m\u001b[43mdst\u001b[49m\u001b[43m,\u001b[49m\u001b[43m \u001b[49m\u001b[38;5;124;43m'\u001b[39;49m\u001b[38;5;124;43mwb\u001b[39;49m\u001b[38;5;124;43m'\u001b[39;49m\u001b[43m)\u001b[49m \u001b[38;5;28;01mas\u001b[39;00m fdst:\n\u001b[1;32m    265\u001b[0m         \u001b[38;5;66;03m# macOS\u001b[39;00m\n\u001b[1;32m    266\u001b[0m         \u001b[38;5;28;01mif\u001b[39;00m _HAS_FCOPYFILE:\n",
      "\u001b[0;31mFileNotFoundError\u001b[0m: [Errno 2] No such file or directory: '/home/cc2/Documents/CellDetection/Test Data/Apoptosis//DATA/Apoptosis/images/train/'",
      "\nDuring handling of the above exception, another exception occurred:\n",
      "\u001b[0;31mAssertionError\u001b[0m                            Traceback (most recent call last)",
      "Cell \u001b[0;32mIn[8], line 3\u001b[0m\n\u001b[1;32m      1\u001b[0m DESTINATION_PATH \u001b[38;5;241m=\u001b[39m IMAGES_PATH \u001b[38;5;241m+\u001b[39m \u001b[38;5;124m\"\u001b[39m\u001b[38;5;124m/DATA/\u001b[39m\u001b[38;5;124m\"\u001b[39m \u001b[38;5;241m+\u001b[39m DEATH_TYPE \u001b[38;5;241m+\u001b[39m \u001b[38;5;124m\"\u001b[39m\u001b[38;5;124m/\u001b[39m\u001b[38;5;124m\"\u001b[39m\n\u001b[1;32m      2\u001b[0m \u001b[38;5;66;03m# Move the splits into their folders\u001b[39;00m\n\u001b[0;32m----> 3\u001b[0m \u001b[43mmove_files_to_folder\u001b[49m\u001b[43m(\u001b[49m\u001b[43mtrain_images\u001b[49m\u001b[43m,\u001b[49m\u001b[43m \u001b[49m\u001b[43mDESTINATION_PATH\u001b[49m\u001b[43m \u001b[49m\u001b[38;5;241;43m+\u001b[39;49m\u001b[43m \u001b[49m\u001b[38;5;124;43m'\u001b[39;49m\u001b[38;5;124;43mimages/train/\u001b[39;49m\u001b[38;5;124;43m'\u001b[39;49m\u001b[43m)\u001b[49m\n\u001b[1;32m      4\u001b[0m move_files_to_folder(val_images, DESTINATION_PATH \u001b[38;5;241m+\u001b[39m \u001b[38;5;124m'\u001b[39m\u001b[38;5;124mimages/val/\u001b[39m\u001b[38;5;124m'\u001b[39m)\n\u001b[1;32m      6\u001b[0m \u001b[38;5;28;01mif\u001b[39;00m WITH_TEST:\n",
      "Cell \u001b[0;32mIn[7], line 21\u001b[0m, in \u001b[0;36mmove_files_to_folder\u001b[0;34m(list_of_files, destination_folder)\u001b[0m\n\u001b[1;32m     19\u001b[0m \u001b[38;5;28;01mexcept\u001b[39;00m:\n\u001b[1;32m     20\u001b[0m     \u001b[38;5;28mprint\u001b[39m(f)\n\u001b[0;32m---> 21\u001b[0m     \u001b[38;5;28;01massert\u001b[39;00m \u001b[38;5;28;01mFalse\u001b[39;00m\n",
      "\u001b[0;31mAssertionError\u001b[0m: "
     ]
    }
   ],
   "source": [
    "DESTINATION_PATH = IMAGES_PATH + \"/DATA/\" + DEATH_TYPE + \"/\"\n",
    "# Move the splits into their folders\n",
    "move_files_to_folder(train_images, DESTINATION_PATH + 'images/train/')\n",
    "move_files_to_folder(val_images, DESTINATION_PATH + 'images/val/')\n",
    "\n",
    "if WITH_TEST:\n",
    "    move_files_to_folder(test_images, DESTINATION_PATH + 'images/test/')\n"
   ]
  }
 ],
 "metadata": {
  "kernelspec": {
   "display_name": "ultralytics",
   "language": "python",
   "name": "python3"
  },
  "language_info": {
   "codemirror_mode": {
    "name": "ipython",
    "version": 3
   },
   "file_extension": ".py",
   "mimetype": "text/x-python",
   "name": "python",
   "nbconvert_exporter": "python",
   "pygments_lexer": "ipython3",
   "version": "3.9.5"
  }
 },
 "nbformat": 4,
 "nbformat_minor": 2
}
