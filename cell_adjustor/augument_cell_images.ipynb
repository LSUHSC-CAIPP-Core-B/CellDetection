{
 "cells": [
  {
   "cell_type": "markdown",
   "metadata": {},
   "source": [
    "# Cell Image augmentation\n",
    "## Imports"
   ]
  },
  {
   "cell_type": "code",
   "execution_count": null,
   "metadata": {},
   "outputs": [],
   "source": [
    "import cv2\n",
    "import numpy as np\n",
    "import os\n",
    "import albumentations as A\n",
    "\n",
    "from config import *\n",
    "from CellProcessor import read_yolo_labels"
   ]
  },
  {
   "cell_type": "markdown",
   "metadata": {},
   "source": [
    "## Augumentations"
   ]
  },
  {
   "cell_type": "code",
   "execution_count": null,
   "metadata": {},
   "outputs": [],
   "source": [
    "transform = A.Compose([\n",
    "    A.RandomBrightnessContrast(p=0.2, brightness_limit=0.3, contrast_limit=0.15),\n",
    "], bbox_params=A.BboxParams(format='yolo', min_visibility=0.4, label_fields=['class_labels']),\n",
    "additional_targets={'phase_mask' : 'mask'})"
   ]
  },
  {
   "cell_type": "markdown",
   "metadata": {},
   "source": [
    "## Make dirs"
   ]
  },
  {
   "cell_type": "code",
   "execution_count": null,
   "metadata": {},
   "outputs": [],
   "source": [
    "AUGUMENTED_LABELED_IMAGES_DIR_PATH = IMAGES_PATH + CELL_TYPE + \"_Labels_phase_aug/\"\n",
    "AUGUMENTED_IMAGES_DIR_PATH = IMAGES_PATH + CELL_TYPE + \"_Phase_aug/\"\n",
    "AUGUMENTED_MASKS_DIR_PATH = IMAGES_PATH + CELL_TYPE + \"_Masks_phase_aug/\"\n",
    "\n",
    "try:\n",
    "    os.mkdir(AUGUMENTED_LABELED_IMAGES_DIR_PATH)\n",
    "except OSError:\n",
    "    pass\n",
    "\n",
    "try:\n",
    "    os.mkdir(AUGUMENTED_IMAGES_DIR_PATH)\n",
    "except OSError:\n",
    "    pass\n",
    "\n",
    "try:\n",
    "    os.mkdir(AUGUMENTED_MASKS_DIR_PATH)\n",
    "except OSError:\n",
    "    pass"
   ]
  },
  {
   "cell_type": "markdown",
   "metadata": {},
   "source": [
    "## for every image annotation mask do augumentation"
   ]
  },
  {
   "cell_type": "code",
   "execution_count": null,
   "metadata": {},
   "outputs": [],
   "source": [
    "LABELED_IMAGES_DIR_PATH = IMAGES_PATH + CELL_TYPE + \"_Labeles_phase/\"\n",
    "IMAGES_MASKS_DIR_PATH = IMAGES_PATH + CELL_TYPE + \"_Masks_phase/\"\n",
    "IMAGES_PHASE_PATH = IMAGES_PATH + CELL_TYPE + \"_Crop_phase/\"\n",
    "\n",
    "images = sorted(os.listdir(IMAGES_PHASE_PATH))\n",
    "len_images = len(images)\n",
    "curr_image_num = 1\n",
    "\n",
    "for image in images:\n",
    "    print(str(curr_image_num) + \"/\" + str(len_images) + \"-\" + image)\n",
    "    curr_image_num+=1\n",
    "    base_image_path = IMAGES_PHASE_PATH + image\n",
    "    annotation_path = LABELED_IMAGES_DIR_PATH + image.split(\".\")[0] + \".txt\"\n",
    "    mask_image_path = IMAGES_MASKS_DIR_PATH + image\n",
    "    if os.path.exists(annotation_path):\n",
    "        img_base = cv2.imread(base_image_path, cv2.IMREAD_UNCHANGED)\n",
    "        img_mask = cv2.imread(mask_image_path, cv2.IMREAD_UNCHANGED)\n",
    "        bboxes, class_labels = read_yolo_labels(annotation_path)\n",
    "        transformed = transform(image=img_base, bboxes=bboxes, class_labels=class_labels, phase_mask=img_mask)\n",
    "        transformed_image = transformed['image']\n",
    "        transformed_bboxes = transformed['bboxes']\n",
    "        transformed_class_labels = transformed['class_labels']\n",
    "        transformed_mask = transformed['phase_mask']\n",
    "\n",
    "        if len(transformed_bboxes):\n",
    "            label_boxes = []\n",
    "            image_file = AUGUMENTED_IMAGES_DIR_PATH + image\n",
    "            aug_mask_file = AUGUMENTED_MASKS_DIR_PATH + image\n",
    "            cv2.imwrite(image_file, transformed_image)\n",
    "            cv2.imwrite(aug_mask_file, transformed_mask)\n",
    "            for i in range(0, len(transformed_bboxes)):\n",
    "                label_box = str(transformed_class_labels[i]) + \" \" + str(transformed_bboxes[i][0]) + \" \" + str(transformed_bboxes[i][1]) + \" \" + str(transformed_bboxes[i][2]) + \" \" + str(transformed_bboxes[i][3]) + \"\\n\"\n",
    "                label_boxes.append(label_box)\n",
    "            label_file = AUGUMENTED_LABELED_IMAGES_DIR_PATH + image.split(\".\")[0] + \".txt\"\n",
    "            with open(label_file, \"w\") as ann:\n",
    "                for lb in label_boxes:\n",
    "                    ann.write(lb)"
   ]
  }
 ],
 "metadata": {
  "kernelspec": {
   "display_name": "venv",
   "language": "python",
   "name": "python3"
  },
  "language_info": {
   "codemirror_mode": {
    "name": "ipython",
    "version": 3
   },
   "file_extension": ".py",
   "mimetype": "text/x-python",
   "name": "python",
   "nbconvert_exporter": "python",
   "pygments_lexer": "ipython3",
   "version": "3.9.18"
  }
 },
 "nbformat": 4,
 "nbformat_minor": 2
}
