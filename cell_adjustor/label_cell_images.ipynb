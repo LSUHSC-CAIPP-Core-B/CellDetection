{
 "cells": [
  {
   "cell_type": "markdown",
   "metadata": {},
   "source": [
    "# Labeling Cell Images\n",
    "## Imports"
   ]
  },
  {
   "cell_type": "code",
   "execution_count": null,
   "metadata": {},
   "outputs": [],
   "source": [
    "import cv2\n",
    "import numpy as np\n",
    "import os\n",
    "from config import *\n",
    "from CellProcessor import read_image, process_image, get_bboxes, get_label_yolo"
   ]
  },
  {
   "cell_type": "markdown",
   "metadata": {},
   "source": [
    "## Make dir for labels"
   ]
  },
  {
   "cell_type": "code",
   "execution_count": null,
   "metadata": {},
   "outputs": [],
   "source": [
    "LABELED_IMAGES_DIR_PATH = IMAGES_PATH + CELL_TYPE + \"_Labeles_phase/\"\n",
    "IMAGES_MASKS_DIR_PATH = IMAGES_PATH + CELL_TYPE + \"_Masks_phase/\"\n",
    "IMAGES_PHASE_PATH = CROP_PHASE_PATH\n",
    "IMAGES_GREEN_PATH = CROP_GREEN_PATH\n",
    "\n",
    "try:\n",
    "    os.mkdir(LABELED_IMAGES_DIR_PATH)\n",
    "except OSError:\n",
    "    print(\"Dir already exists: \" + LABELED_IMAGES_DIR_PATH)\n",
    "\n",
    "try:\n",
    "    os.mkdir(IMAGES_MASKS_DIR_PATH)\n",
    "except OSError:\n",
    "    print(\"Dir already exists: \" + IMAGES_MASKS_DIR_PATH)\n",
    "\n",
    "try:\n",
    "    os.mkdir(IMAGES_PHASE_PATH)\n",
    "except OSError:\n",
    "    print(\"Dir already exists: \" + IMAGES_PHASE_PATH)\n",
    "\n",
    "try:\n",
    "    os.mkdir(IMAGES_GREEN_PATH)\n",
    "except OSError:\n",
    "    print(\"Dir already exists: \" + IMAGES_GREEN_PATH)\n"
   ]
  },
  {
   "cell_type": "markdown",
   "metadata": {},
   "source": [
    "## For every image gen label"
   ]
  },
  {
   "cell_type": "code",
   "execution_count": null,
   "metadata": {},
   "outputs": [],
   "source": [
    "images = os.listdir(GREEN_PATH)\n",
    "len_images = len(images)\n",
    "curr_image_num = 1\n",
    "\n",
    "for image in images:\n",
    "    print(str(curr_image_num) + \"/\" + str(len_images))\n",
    "    curr_image_num+=1\n",
    "    green_image_path = GREEN_PATH + image\n",
    "    base_image_path = PHASE_PATH + image\n",
    "    img, img_base = read_image(green_image_path, base_image_path)\n",
    "    img_green = cv2.imread(green_image_path, cv2.IMREAD_UNCHANGED)\n",
    "\n",
    "    img_base_h, img_base_w = img_base.shape[:2]\n",
    "\n",
    "    CROP_WIDTH = 128\n",
    "    CROP_HEIGHT = 128\n",
    "    CROP_WIDTH_OVERLAP = 64\n",
    "    CROP_HEIGHT_OVERLAP = 52\n",
    "    CROP_WIDTH_SHIFT = CROP_WIDTH - CROP_WIDTH_OVERLAP\n",
    "    CROP_HEIGHT_SHIFT = CROP_HEIGHT - CROP_HEIGHT_OVERLAP\n",
    "    num_width_windows = (img_base_w - CROP_WIDTH)/CROP_WIDTH_SHIFT\n",
    "    num_height_windows = (img_base_h - CROP_HEIGHT)/CROP_HEIGHT_SHIFT\n",
    "\n",
    "    for width_window in range(int(num_width_windows)):\n",
    "        for height_window in range(int(num_height_windows)):\n",
    "            curr_topleft_x = width_window * CROP_WIDTH_SHIFT\n",
    "            curr_topleft_y = height_window * CROP_HEIGHT_SHIFT\n",
    "            img_crop = img[curr_topleft_y:curr_topleft_y + CROP_HEIGHT, curr_topleft_x:curr_topleft_x + CROP_WIDTH]\n",
    "            img_base_crop = img_base[curr_topleft_y:curr_topleft_y + CROP_HEIGHT, curr_topleft_x:curr_topleft_x + CROP_WIDTH]\n",
    "            img_green_crop = img_green[curr_topleft_y:curr_topleft_y + CROP_HEIGHT, curr_topleft_x:curr_topleft_x + CROP_WIDTH]\n",
    "\n",
    "            img_dilation = process_image(img_crop, \n",
    "                                contrast, \n",
    "                                brightness, \n",
    "                                threshold, \n",
    "                                i_erode, \n",
    "                                i_dialate, \n",
    "                                plot = False)    \n",
    "\n",
    "            bboxes = get_bboxes(img_dilation)\n",
    "            for bbox in bboxes:\n",
    "                for sp, ep in bbox:\n",
    "                    if sp <0.0:\n",
    "                        print(bbox)\n",
    "                    if ep <0.0:\n",
    "                        print(bbox)\n",
    "            label_boxes = []\n",
    "            mean_img = (np.sum(img_dilation)/4177920) * 100.0\n",
    "            if len(bboxes) > 0 and mean_img < 40.0:\n",
    "                for start_pt, end_pt in bboxes:\n",
    "                    img_h, img_w = img_dilation.shape[:2]\n",
    "                    x, y, w, h = get_label_yolo(start_pt, end_pt, img_w, img_h)\n",
    "                    if w < 1.0 or h < 1.0:\n",
    "                        label_box = \"0 \" + str(x) + \" \" + str(y) + \" \" + str(w) + \" \" + str(h) + \"\\n\"\n",
    "                        label_boxes.append(label_box)\n",
    "                \n",
    "                if label_boxes:\n",
    "                    img_mask_file = IMAGES_MASKS_DIR_PATH + image.split(\".\")[0] + \"_\" + str(width_window) + \"_\" + str(height_window) + \".png\"\n",
    "                    img_file = IMAGES_PHASE_PATH + image.split(\".\")[0] + \"_\" + str(width_window) + \"_\" + str(height_window) + \".png\"\n",
    "                    img_green_file = IMAGES_GREEN_PATH + image.split(\".\")[0] + \"_\" + str(width_window) + \"_\" + str(height_window) + \".png\"\n",
    "                    cv2.imwrite(img_mask_file, img_dilation)\n",
    "                    cv2.imwrite(img_file, img_base_crop)\n",
    "                    cv2.imwrite(img_green_file, img_green_crop)\n",
    "                    label_file = LABELED_IMAGES_DIR_PATH + \"/\" + image.split(\".\")[0] + \"_\" + str(width_window) + \"_\" + str(height_window) + \".txt\"\n",
    "\n",
    "                    with open(label_file, \"w\") as ann:\n",
    "                        for lb in label_boxes:\n",
    "                            ann.write(lb)"
   ]
  }
 ],
 "metadata": {
  "kernelspec": {
   "display_name": "venv",
   "language": "python",
   "name": "python3"
  },
  "language_info": {
   "codemirror_mode": {
    "name": "ipython",
    "version": 3
   },
   "file_extension": ".py",
   "mimetype": "text/x-python",
   "name": "python",
   "nbconvert_exporter": "python",
   "pygments_lexer": "ipython3",
   "version": "3.9.5"
  }
 },
 "nbformat": 4,
 "nbformat_minor": 2
}
