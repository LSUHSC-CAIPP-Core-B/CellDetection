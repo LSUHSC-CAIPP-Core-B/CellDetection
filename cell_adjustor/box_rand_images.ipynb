{
 "cells": [
  {
   "cell_type": "markdown",
   "metadata": {},
   "source": [
    "# Aplly boxes to rand images from dataset"
   ]
  },
  {
   "cell_type": "code",
   "execution_count": 12,
   "metadata": {},
   "outputs": [],
   "source": [
    "import cv2\n",
    "import numpy as np\n",
    "import os\n",
    "import random\n",
    "\n",
    "from config import *\n",
    "from CellProcessor import read_yolo_labels, yolo_to_original"
   ]
  },
  {
   "cell_type": "code",
   "execution_count": 16,
   "metadata": {},
   "outputs": [],
   "source": [
    "PATH_TO_DATASET = \"../CellDataset/Apoptosis/\"\n",
    "SPLIT = \"train/\"\n",
    "PATH_TO_DATASET_IMAGES = PATH_TO_DATASET + \"images/\" + SPLIT\n",
    "PATH_TO_DATASET_LABELS = PATH_TO_DATASET + \"labels/\" + SPLIT\n",
    "OUTPUT_PATH = \"../CellDataset/example_boxes/\""
   ]
  },
  {
   "cell_type": "code",
   "execution_count": 17,
   "metadata": {},
   "outputs": [],
   "source": [
    "images = os.listdir(PATH_TO_DATASET_IMAGES)\n",
    "num_images=len(images)\n",
    "num_iamges_to_save = 100\n",
    "images_to_save_ids = random.sample(range(1, num_images), num_iamges_to_save)\n",
    "for image_to_save_id in images_to_save_ids:\n",
    "    image_path = PATH_TO_DATASET_IMAGES + images[image_to_save_id]\n",
    "    image = cv2.imread(image_path)\n",
    "    label_to_read = PATH_TO_DATASET_LABELS + images[image_to_save_id].split(\".\")[0] + \".txt\"\n",
    "    boxes, classes = read_yolo_labels(label_to_read)\n",
    "    for i in range(0, len(boxes)):\n",
    "        x, y, w, h = yolo_to_original(image, boxes[i])\n",
    "        image = cv2.rectangle(image, (x,y), (x+w,y+h), (255,255,255), 1)\n",
    "    cv2.imwrite(OUTPUT_PATH + \"Apoptosis_\" + images[image_to_save_id], image)\n",
    "    "
   ]
  }
 ],
 "metadata": {
  "kernelspec": {
   "display_name": "venv",
   "language": "python",
   "name": "python3"
  },
  "language_info": {
   "codemirror_mode": {
    "name": "ipython",
    "version": 3
   },
   "file_extension": ".py",
   "mimetype": "text/x-python",
   "name": "python",
   "nbconvert_exporter": "python",
   "pygments_lexer": "ipython3",
   "version": "3.9.6"
  }
 },
 "nbformat": 4,
 "nbformat_minor": 2
}
