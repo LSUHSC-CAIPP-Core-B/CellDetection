{
 "cells": [
  {
   "cell_type": "markdown",
   "metadata": {},
   "source": [
    "# Test of YOLO inference and data preprocessing\n",
    "## Imports"
   ]
  },
  {
   "cell_type": "code",
   "execution_count": null,
   "metadata": {},
   "outputs": [],
   "source": [
    "from matplotlib.pyplot import imshow\n",
    "import os\n",
    "import cv2\n",
    "import random\n",
    "import numpy as np\n",
    "from datetime import datetime\n",
    "from CellDetector import CellDetector\n",
    "import matplotlib.pyplot as plt\n",
    "%matplotlib inline"
   ]
  },
  {
   "cell_type": "markdown",
   "metadata": {},
   "source": [
    "## Load model"
   ]
  },
  {
   "cell_type": "code",
   "execution_count": null,
   "metadata": {},
   "outputs": [],
   "source": [
    "cell_detector = CellDetector(\"02_23_all_data_ft.pt\")"
   ]
  },
  {
   "cell_type": "markdown",
   "metadata": {},
   "source": [
    "## Load data"
   ]
  },
  {
   "cell_type": "code",
   "execution_count": null,
   "metadata": {},
   "outputs": [],
   "source": [
    "DEATH_TYPE = \"Apoptosis\"\n",
    "CELL_TYPE = \"HT29\"\n",
    "base_dir = \"../Test Data/\" + DEATH_TYPE + \"/\"\n",
    "images_dir = base_dir + \"HT29_Phase/\"\n",
    "green_dir = base_dir + \"HT29_Green/\"\n",
    "images = os.listdir(images_dir)\n",
    "len_images = len(images)"
   ]
  },
  {
   "cell_type": "code",
   "execution_count": null,
   "metadata": {},
   "outputs": [],
   "source": [
    "image_id = random.randrange(len_images)\n",
    "print(image_id)\n",
    "source = images_dir + images[image_id]\n",
    "source_green = green_dir + images[image_id]\n",
    "print(source)"
   ]
  },
  {
   "cell_type": "code",
   "execution_count": null,
   "metadata": {},
   "outputs": [],
   "source": [
    "img = cv2.imread(source, cv2.IMREAD_UNCHANGED)\n",
    "\n",
    "img_green = cv2.imread(source_green, cv2.IMREAD_UNCHANGED)\n",
    "img_green = cv2.convertScaleAbs(img_green, alpha=(255.0/65535.0))\n",
    "img_green = cv2.addWeighted(img_green, 6.7, np.zeros(img_green.shape, img_green.dtype), 0, 10.0)"
   ]
  },
  {
   "cell_type": "markdown",
   "metadata": {},
   "source": [
    "## Predict"
   ]
  },
  {
   "cell_type": "code",
   "execution_count": null,
   "metadata": {},
   "outputs": [],
   "source": [
    "results, big_image = cell_detector.predict_with_crop(img, 0.2, 0.4, withImage = True)\n",
    "print(np.shape(results))"
   ]
  },
  {
   "cell_type": "markdown",
   "metadata": {},
   "source": [
    "## Visualize"
   ]
  },
  {
   "cell_type": "code",
   "execution_count": null,
   "metadata": {},
   "outputs": [],
   "source": [
    "IF_GREEN = True\n",
    "\n",
    "if IF_GREEN:\n",
    "    image_boxed, image_green_boxed = cell_detector.box_image(big_image, results, image_green = img_green, prepare_type = 0)\n",
    "else:\n",
    "    image_boxed = cell_detector.box_image(big_image, results)"
   ]
  },
  {
   "cell_type": "code",
   "execution_count": null,
   "metadata": {},
   "outputs": [],
   "source": [
    "fig, ((ax1),(ax2)) = plt.subplots(nrows=1,ncols=2,figsize=(16,8))\n",
    "fig.suptitle(str(images[image_id]), fontsize=16)\n",
    "\n",
    "image_boxed = cv2.cvtColor(image_boxed, cv2.COLOR_BGR2RGB)\n",
    "\n",
    "image_green_boxed = cv2.cvtColor(image_green_boxed, cv2.COLOR_BGR2RGB)\n",
    "\n",
    "\n",
    "ax1.imshow(image_boxed)\n",
    "ax1.set_title(\"Phase\")\n",
    "\n",
    "ax2.imshow(image_green_boxed)\n",
    "ax2.set_title(\"Green\")"
   ]
  }
 ],
 "metadata": {
  "kernelspec": {
   "display_name": "ultralytics",
   "language": "python",
   "name": "python3"
  },
  "language_info": {
   "codemirror_mode": {
    "name": "ipython",
    "version": 3
   },
   "file_extension": ".py",
   "mimetype": "text/x-python",
   "name": "python",
   "nbconvert_exporter": "python",
   "pygments_lexer": "ipython3",
   "version": "3.8.18"
  }
 },
 "nbformat": 4,
 "nbformat_minor": 2
}
