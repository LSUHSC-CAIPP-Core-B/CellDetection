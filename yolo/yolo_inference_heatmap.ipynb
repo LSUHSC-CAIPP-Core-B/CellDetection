{
 "cells": [
  {
   "cell_type": "markdown",
   "metadata": {},
   "source": [
    "# Yolo inference with heat map generation\n",
    "## Imports"
   ]
  },
  {
   "cell_type": "code",
   "execution_count": null,
   "metadata": {},
   "outputs": [],
   "source": [
    "import os\n",
    "import cv2\n",
    "import random\n",
    "import numpy as np\n",
    "from datetime import datetime\n",
    "from CellDetector import CellDetector\n",
    "import matplotlib.pyplot as plt\n",
    "%matplotlib inline"
   ]
  },
  {
   "cell_type": "markdown",
   "metadata": {},
   "source": [
    "## Load model"
   ]
  },
  {
   "cell_type": "code",
   "execution_count": null,
   "metadata": {},
   "outputs": [],
   "source": [
    "cell_detector = CellDetector(\"02_23_all_data_ft.pt\")"
   ]
  },
  {
   "cell_type": "markdown",
   "metadata": {},
   "source": [
    "## Load data"
   ]
  },
  {
   "cell_type": "code",
   "execution_count": null,
   "metadata": {},
   "outputs": [],
   "source": [
    "DEATH_TYPE = \"Apoptosis\"\n",
    "CELL_TYPE = \"HT29\"\n",
    "base_dir = \"../Test Data/\" + DEATH_TYPE + \"/\"\n",
    "images_dir = base_dir + \"Phase/\"\n",
    "green_dir = base_dir + \"Green/\"\n",
    "images = os.listdir(images_dir)\n",
    "len_images = len(images)"
   ]
  },
  {
   "cell_type": "code",
   "execution_count": null,
   "metadata": {},
   "outputs": [],
   "source": [
    "image_id = random.randrange(len_images)\n",
    "print(image_id)\n",
    "source = images_dir + images[image_id]\n",
    "source_green = green_dir + images[image_id]\n",
    "print(source)\n",
    "\n",
    "img = cv2.imread(source, cv2.IMREAD_UNCHANGED)\n",
    "\n",
    "img_green = cv2.imread(source_green, cv2.IMREAD_UNCHANGED)\n",
    "img_green = cv2.convertScaleAbs(img_green, alpha=(255.0/65535.0))\n",
    "img_green = cv2.addWeighted(img_green, 8.7, np.zeros(img_green.shape, img_green.dtype), 0, 0.0)"
   ]
  },
  {
   "cell_type": "markdown",
   "metadata": {},
   "source": [
    "## Predict"
   ]
  },
  {
   "cell_type": "code",
   "execution_count": null,
   "metadata": {},
   "outputs": [],
   "source": [
    "apoptosis_image, necroptosis_image, background_image, big_image, results = cell_detector.predict_with_heatmap(img, 0.2, 0.4, desired_coverage = 10, withImage = True, withResults = True, device=0)"
   ]
  },
  {
   "cell_type": "markdown",
   "metadata": {},
   "source": [
    "## Visualize"
   ]
  },
  {
   "cell_type": "markdown",
   "metadata": {},
   "source": [
    "### Heat map"
   ]
  },
  {
   "cell_type": "code",
   "execution_count": null,
   "metadata": {},
   "outputs": [],
   "source": [
    "amax = apoptosis_image.max()\n",
    "amin = apoptosis_image.min()\n",
    "print(\"Apoptosis\")\n",
    "print(amax)\n",
    "print(amin)\n",
    "nmax = necroptosis_image.max()\n",
    "nmin = necroptosis_image.min()\n",
    "print(\"Necroptosis\")\n",
    "print(nmax)\n",
    "print(nmin)\n",
    "bmax = background_image.max()\n",
    "bmin = background_image.min()\n",
    "print(\"Background\")\n",
    "print(bmax)\n",
    "print(bmin)"
   ]
  },
  {
   "cell_type": "code",
   "execution_count": null,
   "metadata": {},
   "outputs": [],
   "source": [
    "fig, ((ax1),(ax2), (ax3)) = plt.subplots(nrows=1,ncols=3,figsize=(16,8))\n",
    "fig.suptitle(str(images[image_id]), fontsize=16)\n",
    "\n",
    "ax1.imshow(apoptosis_image, vmin=0.0, vmax=1.0, cmap='bone')\n",
    "ax1.set_title(\"Apoptosis\")\n",
    "\n",
    "ax2.imshow(necroptosis_image, vmin=0.0, vmax=1.0, cmap='bone')\n",
    "ax2.set_title(\"Necroptosis\")\n",
    "\n",
    "ax3.imshow(background_image, vmin=0.0, vmax=1.0, cmap='bone')\n",
    "ax3.set_title(\"Background\")"
   ]
  },
  {
   "cell_type": "code",
   "execution_count": null,
   "metadata": {},
   "outputs": [],
   "source": [
    "IF_GREEN = True\n",
    "\n",
    "if IF_GREEN:\n",
    "    image_boxed, image_green_boxed = cell_detector.box_image(big_image, results, image_green = img_green, prepare_type = 0)\n",
    "else:\n",
    "    image_boxed = cell_detector.box_image(big_image, results)"
   ]
  },
  {
   "cell_type": "code",
   "execution_count": null,
   "metadata": {},
   "outputs": [],
   "source": [
    "fig, ((ax1, ax2),(ax3, ax4)) = plt.subplots(nrows=2,ncols=2,figsize=(16,8))\n",
    "fig.suptitle(str(images[image_id]), fontsize=16)\n",
    "\n",
    "image_boxed = cv2.cvtColor(image_boxed, cv2.COLOR_BGR2RGB)\n",
    "\n",
    "image_green_boxed = cv2.cvtColor(image_green_boxed, cv2.COLOR_BGR2RGB)\n",
    "\n",
    "\n",
    "ax1.imshow(image_boxed)\n",
    "ax1.set_title(\"Phase\")\n",
    "\n",
    "ax2.imshow(image_green_boxed)\n",
    "ax2.set_title(\"Green\")\n",
    "\n",
    "ax3.imshow(apoptosis_image, vmin=0.0, vmax=1.0, cmap='inferno')\n",
    "ax3.set_title(\"Apoptosis\")\n",
    "\n",
    "ax4.imshow(necroptosis_image, vmin=0.0, vmax=1.0, cmap='inferno')\n",
    "ax4.set_title(\"Necroptosis\")"
   ]
  },
  {
   "cell_type": "code",
   "execution_count": null,
   "metadata": {},
   "outputs": [],
   "source": [
    "plt.imshow(apoptosis_image, vmin=0.0, vmax=1.0, cmap='inferno')\n",
    "\n",
    "plt.colorbar()\n",
    "plt.show()"
   ]
  }
 ],
 "metadata": {
  "kernelspec": {
   "display_name": "ultralytics",
   "language": "python",
   "name": "python3"
  },
  "language_info": {
   "codemirror_mode": {
    "name": "ipython",
    "version": 3
   },
   "file_extension": ".py",
   "mimetype": "text/x-python",
   "name": "python",
   "nbconvert_exporter": "python",
   "pygments_lexer": "ipython3",
   "version": "3.8.18"
  }
 },
 "nbformat": 4,
 "nbformat_minor": 2
}
