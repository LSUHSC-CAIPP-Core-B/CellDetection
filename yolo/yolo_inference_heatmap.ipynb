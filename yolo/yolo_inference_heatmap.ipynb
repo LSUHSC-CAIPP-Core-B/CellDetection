{
 "cells": [
  {
   "cell_type": "markdown",
   "metadata": {},
   "source": [
    "# Yolo inference with heat map generation\n",
    "## Imports"
   ]
  },
  {
   "cell_type": "code",
   "execution_count": null,
   "metadata": {},
   "outputs": [],
   "source": [
    "from matplotlib.pyplot import imshow\n",
    "import os\n",
    "import cv2\n",
    "import random\n",
    "import numpy as np\n",
    "from datetime import datetime\n",
    "from CellDetector import CellDetector\n",
    "import matplotlib.pyplot as plt\n",
    "%matplotlib inline"
   ]
  },
  {
   "cell_type": "markdown",
   "metadata": {},
   "source": [
    "## Load model"
   ]
  },
  {
   "cell_type": "code",
   "execution_count": null,
   "metadata": {},
   "outputs": [],
   "source": [
    "cell_detector = CellDetector(\"02_23_all_data_ft.pt\")"
   ]
  },
  {
   "cell_type": "markdown",
   "metadata": {},
   "source": [
    "## Load data"
   ]
  },
  {
   "cell_type": "code",
   "execution_count": null,
   "metadata": {},
   "outputs": [],
   "source": [
    "DEATH_TYPE = \"Necroptosis\"\n",
    "CELL_TYPE = \"MEF\"\n",
    "base_dir = \"/Users/sapplab/Desktop/CellDataProcessing/new_data/\" + DEATH_TYPE + \"/\"\n",
    "images_dir = base_dir + CELL_TYPE + \"_phase/\"\n",
    "green_dir = base_dir + CELL_TYPE + \"_Green/\"\n",
    "results_dir = \"/Users/sapplab/Desktop/CellDataProcessing/test_images/\"\n",
    "images = os.listdir(images_dir)\n",
    "len_images = len(images)"
   ]
  },
  {
   "cell_type": "code",
   "execution_count": null,
   "metadata": {},
   "outputs": [],
   "source": [
    "image_id = random.randrange(len_images)\n",
    "print(image_id)\n",
    "source = images_dir + images[image_id]\n",
    "source_green = green_dir + images[image_id]\n",
    "print(source)\n",
    "\n",
    "img = cv2.imread(source, cv2.IMREAD_UNCHANGED)\n",
    "\n",
    "img_green = cv2.imread(source_green, cv2.IMREAD_UNCHANGED)\n",
    "img_green = cv2.convertScaleAbs(img_green, alpha=(255.0/65535.0))\n",
    "img_green = cv2.addWeighted(img_green, 8.7, np.zeros(img_green.shape, img_green.dtype), 0, 0.0)"
   ]
  },
  {
   "cell_type": "markdown",
   "metadata": {},
   "source": [
    "## Predict"
   ]
  },
  {
   "cell_type": "code",
   "execution_count": null,
   "metadata": {},
   "outputs": [],
   "source": [
    "results = cell_detector.predict_with_crop(img, 0.2, 0.4)\n",
    "print(np.shape(results))"
   ]
  }
 ],
 "metadata": {
  "kernelspec": {
   "display_name": "ultralytics",
   "language": "python",
   "name": "python3"
  },
  "language_info": {
   "name": "python",
   "version": "3.8.18"
  }
 },
 "nbformat": 4,
 "nbformat_minor": 2
}
